{
 "cells": [
  {
   "cell_type": "code",
   "execution_count": null,
   "id": "5041e6c9",
   "metadata": {},
   "outputs": [],
   "source": [
    "import json\n",
    "import networkx as nx\n",
    "from pprint import pprint\n",
    "\n",
    "from src.utils.data_loader import load_vulnerabilities, load_topology, load_asset_criticality\n",
    "from src.core.graph_builder import build_attack_graph\n",
    "from src.core.path_finder import find_paths"
   ]
  },
  {
   "cell_type": "code",
   "execution_count": null,
   "id": "40ed16a2",
   "metadata": {},
   "outputs": [],
   "source": [
    "# 2. Load Sample Data\n",
    "vulns = load_vulnerabilities('data/vulnerabilities.json')\n",
    "topology = load_topology('data/topology.json')\n",
    "assets = load_asset_criticality('data/assets.json')"
   ]
  },
  {
   "cell_type": "code",
   "execution_count": null,
   "id": "32bd5797",
   "metadata": {},
   "outputs": [],
   "source": [
    "# 3. Build Graph\n",
    "graph = build_attack_graph(vulns, topology, assets)\n",
    "print(\"Graph nodes:\")\n",
    "pprint(graph.nodes(data=True))"
   ]
  },
  {
   "cell_type": "code",
   "execution_count": null,
   "id": "cda5769f",
   "metadata": {},
   "outputs": [],
   "source": [
    "print(\"\\nGraph edges:\")\n",
    "pprint(graph.edges(data=True))"
   ]
  },
  {
   "cell_type": "code",
   "execution_count": null,
   "id": "52da983e",
   "metadata": {},
   "outputs": [],
   "source": [
    "# 4. Define Entry Points and Critical Assets\n",
    "entry_points = [\"external_node\"]\n",
    "critical_assets = [a['id'] for a in assets if a['criticality'] >= 8]"
   ]
  },
  {
   "cell_type": "code",
   "execution_count": null,
   "id": "3cbfbf19",
   "metadata": {},
   "outputs": [],
   "source": [
    "# 5. Find Attack Paths\n",
    "results = find_paths(graph, entry_points, critical_assets)"
   ]
  },
  {
   "cell_type": "code",
   "execution_count": null,
   "id": "db8d740e",
   "metadata": {},
   "outputs": [],
   "source": [
    "# 6. Display Results\n",
    "print(\"\\nAttack Paths and Risks:\")\n",
    "for result in results:\n",
    "    print(\"Path:\", result['path'])\n",
    "    print(\"Risk Score:\", result['risk'])\n",
    "    print(\"---\")\n"
   ]
  },
  {
   "cell_type": "code",
   "execution_count": null,
   "id": "0966bc71",
   "metadata": {},
   "outputs": [],
   "source": []
  }
 ],
 "metadata": {
  "kernelspec": {
   "display_name": "Python 3",
   "language": "python",
   "name": "python3"
  },
  "language_info": {
   "name": "python",
   "version": "3.10.0"
  }
 },
 "nbformat": 4,
 "nbformat_minor": 5
}
